{
 "cells": [
  {
   "cell_type": "markdown",
   "metadata": {},
   "source": [
    "# Intro to Bayesian Statistics Lab\n",
    "\n",
    "Complete the following set of exercises to solidify your knowledge of Bayesian statistics and Bayesian data analysis."
   ]
  },
  {
   "cell_type": "code",
   "execution_count": 1,
   "metadata": {},
   "outputs": [],
   "source": [
    "import pandas as pd\n",
    "import numpy as np\n",
    "import matplotlib.pyplot as plt"
   ]
  },
  {
   "cell_type": "markdown",
   "metadata": {},
   "source": [
    "## 1. Cookie Problem\n",
    "\n",
    "Suppose we have two bowls of cookies. Bowl 1 contains 30 vanilla cookies and 10 chocolate cookies. Bowl 2 contains 20 of each. You randomly pick one cookie out of one of the bowls, and it is vanilla. Use Bayes Theorem to calculate the probability that the vanilla cookie you picked came from Bowl 1?"
   ]
  },
  {
   "cell_type": "code",
   "execution_count": 2,
   "metadata": {},
   "outputs": [
    {
     "data": {
      "text/plain": [
       "0.6"
      ]
     },
     "execution_count": 2,
     "metadata": {},
     "output_type": "execute_result"
    }
   ],
   "source": [
    "#Probabilidad de que salga galleta de vainilla en la caja A\n",
    "P1 = 30/40\n",
    "#Probabilidad de que salga una galleta de la caja A\n",
    "P2 = 40/80\n",
    "#Probabilidad de que saga una galleta de vainilla\n",
    "P3 = 50/80\n",
    "\n",
    "Vanilla_BowlA = (P1*P2)/P3\n",
    "Vanilla_BowlA"
   ]
  },
  {
   "cell_type": "markdown",
   "metadata": {},
   "source": [
    "What is the probability that it came from Bowl 2?"
   ]
  },
  {
   "cell_type": "code",
   "execution_count": 3,
   "metadata": {},
   "outputs": [
    {
     "data": {
      "text/plain": [
       "0.4"
      ]
     },
     "execution_count": 3,
     "metadata": {},
     "output_type": "execute_result"
    }
   ],
   "source": [
    "#Probabilidad de que salga galleta de vainilla en la caja B\n",
    "P1 = 20/40\n",
    "#Probabilidad de que salga una galleta de la caja B\n",
    "P2 = 40/80\n",
    "#Probabilidad de que saga una galleta de vainilla\n",
    "P3 = 50/80\n",
    "\n",
    "Vanilla_BowlB = (P1*P2)/P3\n",
    "Vanilla_BowlB"
   ]
  },
  {
   "cell_type": "markdown",
   "metadata": {},
   "source": [
    "What if the cookie you had picked was chocolate? What are the probabilities that the chocolate cookie came from Bowl 1 and Bowl 2 respectively?"
   ]
  },
  {
   "cell_type": "code",
   "execution_count": 4,
   "metadata": {},
   "outputs": [
    {
     "data": {
      "text/plain": [
       "0.3333333333333333"
      ]
     },
     "execution_count": 4,
     "metadata": {},
     "output_type": "execute_result"
    }
   ],
   "source": [
    "#Probabilidad de que salga galleta de chocolate en la caja A\n",
    "P1 = 10/40\n",
    "#Probabilidad de que salga una galleta de la caja A\n",
    "P2 = 40/80\n",
    "#Probabilidad de que saga una galleta de chocolate\n",
    "P3 = 30/80\n",
    "\n",
    "Chocolate_BowlA = (P1*P2)/P3\n",
    "Chocolate_BowlA"
   ]
  },
  {
   "cell_type": "code",
   "execution_count": 5,
   "metadata": {},
   "outputs": [
    {
     "data": {
      "text/plain": [
       "0.6666666666666666"
      ]
     },
     "execution_count": 5,
     "metadata": {},
     "output_type": "execute_result"
    }
   ],
   "source": [
    "#Probabilidad de que salga galleta de chocolate en la caja B\n",
    "P1 = 20/40\n",
    "#Probabilidad de que salga una galleta de la caja B\n",
    "P2 = 40/80\n",
    "#Probabilidad de que saga una galleta de chocolate\n",
    "P3 = 30/80\n",
    "\n",
    "Chocolate_BowlB = (P1*P2)/P3\n",
    "Chocolate_BowlB"
   ]
  },
  {
   "cell_type": "markdown",
   "metadata": {},
   "source": [
    "## 2. Candy Problem\n",
    "\n",
    "Suppose you have two bags of candies:\n",
    "\n",
    "- In Bag 1, the mix of colors is:\n",
    "    - Brown - 30%\n",
    "    - Yellow - 20%\n",
    "    - Red - 20%\n",
    "    - Green - 10%\n",
    "    - Orange - 10%\n",
    "    - Tan - 10%\n",
    "    \n",
    "- In Bag 2, the mix of colors is:\n",
    "    - Blue - 24%\n",
    "    - Green - 20%\n",
    "    - Orange - 16%\n",
    "    - Yellow - 14%\n",
    "    - Red - 13%\n",
    "    - Brown - 13%\n",
    "    \n",
    "Not knowing which bag is which, you randomly draw one candy from each bag. One is yellow and one is green. What is the probability that the yellow one came from the Bag 1?\n",
    "\n",
    "*Hint: For the likelihoods, you will need to multiply the probabilities of drawing yellow from one bag and green from the other bag and vice versa.*"
   ]
  },
  {
   "cell_type": "code",
   "execution_count": 6,
   "metadata": {},
   "outputs": [
    {
     "name": "stdout",
     "output_type": "stream",
     "text": [
      "Probabilidad de que salga amarillo de la bolsa A es 74.07407407407408\n"
     ]
    }
   ],
   "source": [
    "#Probabilidad de que salga un dulce de la bolsa A y B\n",
    "P_bolsaA = 0.5\n",
    "P_bolsaB = 0.5\n",
    "\n",
    "#Probabilidad de que salga amarillo en la bolsa A y verde en la bolsa B\n",
    "P_amarillo1 = 0.2\n",
    "P_verde1 = 0.2\n",
    "\n",
    "P1_av = P_amarillo1*P_verde1*P_bolsaA\n",
    "\n",
    "#Probabilidad de que salga verde en la bolsa A y amarillo en la bolsa B\n",
    "P_amarillo2 = 0.14\n",
    "P_verde2 = 0.1\n",
    "\n",
    "P2_av = (P_amarillo2*P_verde2)*P_bolsaB\n",
    "\n",
    "P3_bA = P1_av/(P1_av+P2_av)\n",
    "\n",
    "print(\"Probabilidad de que salga amarillo de la bolsa A es\",P3_bA*100)"
   ]
  },
  {
   "cell_type": "markdown",
   "metadata": {},
   "source": [
    "What is the probability that the yellow candy came from Bag 2?"
   ]
  },
  {
   "cell_type": "code",
   "execution_count": 7,
   "metadata": {},
   "outputs": [
    {
     "name": "stdout",
     "output_type": "stream",
     "text": [
      "Probabilidad de que salga amarillo de la bolsa A es 25.925925925925924\n"
     ]
    }
   ],
   "source": [
    "P3_bB = P2_av/(P1_av+P2_av)\n",
    "print(\"Probabilidad de que salga amarillo de la bolsa A es\",P3_bB*100)"
   ]
  },
  {
   "cell_type": "markdown",
   "metadata": {},
   "source": [
    "What are the probabilities that the green one came from Bag 1 and Bag 2 respectively?"
   ]
  },
  {
   "cell_type": "code",
   "execution_count": 14,
   "metadata": {},
   "outputs": [
    {
     "name": "stdout",
     "output_type": "stream",
     "text": [
      "Probabilidad de que salga verde de la bolsa A es 25.925925925925924\n",
      "Probabilidad de que salga verde de la bolsa B es 74.07407407407408\n"
     ]
    }
   ],
   "source": [
    "#Probabilidad de que salga un dulce de la bolsa A y B\n",
    "P_bolsaA = 0.5\n",
    "P_bolsaB = 0.5\n",
    "\n",
    "#Probabilidad de que salga verde en la bolsa A y amarillo en la bolsa A\n",
    "P_amarilloB = 0.14\n",
    "P_verdeA = 0.1\n",
    "\n",
    "P1_av = P_amarilloB*P_verdeA*P_bolsaA\n",
    "\n",
    "#Probabilidad de que salga verde en la bolsa B y amarillo en la bolsa B\n",
    "P_amarilloA = 0.2\n",
    "P_verdeB = 0.2\n",
    "\n",
    "P2_av = (P_amarilloA*P_verdeB)*P_bolsaB\n",
    "\n",
    "P3_bA = P1_av/(P1_av+P2_av)\n",
    "P3_bB = P2_av/(P1_av+P2_av)\n",
    "\n",
    "print(\"Probabilidad de que salga verde de la bolsa A es\",P3_bA*100)\n",
    "print(\"Probabilidad de que salga verde de la bolsa B es\",P3_bB*100)\n",
    "\n"
   ]
  },
  {
   "cell_type": "markdown",
   "metadata": {},
   "source": [
    "## 3. Monty Hall Problem\n",
    "\n",
    "Suppose you are a contestant on the popular game show *Let's Make a Deal*. The host of the show (Monty Hall) presents you with three doors - Door A, Door B, and Door C. He tells you that there is a sports car behind one of them and if you choose the correct one, you win the car!\n",
    "\n",
    "You select Door A, but then Monty makes things a little more interesting. He opens Door B to reveal that there is no sports car behind it and asks you if you would like to stick with your choice of Door A or switch your choice to Door C. Given this new information, what are the probabilities of you winning the car if you stick with Door A versus if you switch to Door C?"
   ]
  },
  {
   "cell_type": "code",
   "execution_count": 16,
   "metadata": {},
   "outputs": [
    {
     "name": "stdout",
     "output_type": "stream",
     "text": [
      "Probabilidad de que esté en A es: 0.3333333333333333\n",
      "Probabilidad de que esté en C es: 0.6666666666666666\n"
     ]
    }
   ],
   "source": [
    "#Probabilidad de cada puerta\n",
    "P_A = 1/3\n",
    "P_B = 1/3\n",
    "P_C = 1/3\n",
    "\n",
    "#Probabilidad ahora que sabemos que B no:\n",
    "P_A = 1/3\n",
    "P_B_C = 2/3\n",
    "\n",
    "print('Probabilidad de que esté en A es:',P_A)\n",
    "print('Probabilidad de que esté en C es:',P_B_C)\n"
   ]
  },
  {
   "cell_type": "markdown",
   "metadata": {},
   "source": [
    "## 4. Bayesian Analysis \n",
    "\n",
    "Suppose you work for a landscaping company, and they want to advertise their service online. They create an ad and sit back waiting for the money to roll in. On the first day, the ad sends 100 visitors to the site and 14 of them sign up for landscaping services. Create a generative model to come up with the posterior distribution and produce a visualization of what the posterior distribution would look like given the observed data."
   ]
  },
  {
   "cell_type": "code",
   "execution_count": 29,
   "metadata": {},
   "outputs": [
    {
     "data": {
      "text/plain": [
       "<matplotlib.axes._subplots.AxesSubplot at 0x11ada3050>"
      ]
     },
     "execution_count": 29,
     "metadata": {},
     "output_type": "execute_result"
    },
    {
     "data": {
      "image/png": "[encoded data removed]",
      "text/plain": [
       "<Figure size 432x288 with 1 Axes>"
      ]
     },
     "metadata": {
      "needs_background": "light"
     },
     "output_type": "display_data"
    }
   ],
   "source": [
    "prior = pd.Series(np.random.uniform(0, 1, size=100000))\n",
    "observed = 14\n",
    "\n",
    "def generative_model(param):\n",
    "    result = np.random.binomial(100, param)\n",
    "    return result\n",
    "\n",
    "sim_data = list()\n",
    "\n",
    "for p in prior:\n",
    "    sim_data.append(generative_model(p))\n",
    "\n",
    "posterior = prior[list(map(lambda x: x == observed, sim_data))]\n",
    "posterior.hist()"
   ]
  },
  {
   "cell_type": "markdown",
   "metadata": {},
   "source": [
    "Produce a set of descriptive statistics for the posterior distribution."
   ]
  },
  {
   "cell_type": "code",
   "execution_count": 28,
   "metadata": {},
   "outputs": [
    {
     "data": {
      "text/plain": [
       "count    1042.000000\n",
       "mean        0.148251\n",
       "std         0.035267\n",
       "min         0.062967\n",
       "25%         0.124377\n",
       "50%         0.145411\n",
       "75%         0.170374\n",
       "max         0.298540\n",
       "dtype: float64"
      ]
     },
     "execution_count": 28,
     "metadata": {},
     "output_type": "execute_result"
    }
   ],
   "source": [
    "posterior.describe()"
   ]
  },
  {
   "cell_type": "markdown",
   "metadata": {},
   "source": [
    "What is the 90% credible interval range?"
   ]
  },
  {
   "cell_type": "code",
   "execution_count": 30,
   "metadata": {},
   "outputs": [
    {
     "name": "stdout",
     "output_type": "stream",
     "text": [
      "0.0862113218822989 | 0.22439989291528467\n"
     ]
    }
   ],
   "source": [
    "print(posterior.quantile(.025), '|', posterior.quantile(.975))"
   ]
  },
  {
   "cell_type": "markdown",
   "metadata": {},
   "source": [
    "What is the Maximum Likelihood Estimate?"
   ]
  },
  {
   "cell_type": "code",
   "execution_count": 31,
   "metadata": {},
   "outputs": [
    {
     "name": "stdout",
     "output_type": "stream",
     "text": [
      "Maximum Likelihood Estimate:  0.14 | 0.12866108786610878\n"
     ]
    }
   ],
   "source": [
    "rounded = posterior.round(2)\n",
    "mode = rounded.mode()[0]\n",
    "probability = list(rounded).count(mode)/len(rounded)\n",
    "print('Maximum Likelihood Estimate: ', mode, '|',probability)"
   ]
  },
  {
   "cell_type": "code",
   "execution_count": 33,
   "metadata": {},
   "outputs": [
    {
     "data": {
      "text/plain": [
       "0.12866108786610878"
      ]
     },
     "execution_count": 33,
     "metadata": {},
     "output_type": "execute_result"
    }
   ],
   "source": [
    "probability"
   ]
  },
  {
   "cell_type": "code",
   "execution_count": null,
   "metadata": {},
   "outputs": [],
   "source": []
  }
 ],
 "metadata": {
  "kernelspec": {
   "display_name": "Python 3",
   "language": "python",
   "name": "python3"
  },
  "language_info": {
   "codemirror_mode": {
    "name": "ipython",
    "version": 3
   },
   "file_extension": ".py",
   "mimetype": "text/x-python",
   "name": "python",
   "nbconvert_exporter": "python",
   "pygments_lexer": "ipython3",
   "version": "3.7.4"
  }
 },
 "nbformat": 4,
 "nbformat_minor": 2
}
